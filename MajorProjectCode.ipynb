{
 "cells": [
  {
   "cell_type": "code",
   "execution_count": 2,
   "metadata": {},
   "outputs": [],
   "source": [
    "import pandas as pd\n",
    "import matplotlib.pyplot as plt\n",
    "import numpy as np\n",
    "import math"
   ]
  },
  {
   "cell_type": "code",
   "execution_count": 3,
   "metadata": {},
   "outputs": [],
   "source": [
    "data = pd.read_csv('projectdataset.csv')           "
   ]
  },
  {
   "cell_type": "code",
   "execution_count": 4,
   "metadata": {},
   "outputs": [],
   "source": [
    "dataset=data.copy()"
   ]
  },
  {
   "cell_type": "code",
   "execution_count": 5,
   "metadata": {},
   "outputs": [],
   "source": [
    "#data=data.drop(['Crop_age'],axis=1)\n",
    "data=data.drop(['SNO','prediction'],axis=1)"
   ]
  },
  {
   "cell_type": "code",
   "execution_count": 6,
   "metadata": {},
   "outputs": [
    {
     "data": {
      "text/html": [
       "<div>\n",
       "<style scoped>\n",
       "    .dataframe tbody tr th:only-of-type {\n",
       "        vertical-align: middle;\n",
       "    }\n",
       "\n",
       "    .dataframe tbody tr th {\n",
       "        vertical-align: top;\n",
       "    }\n",
       "\n",
       "    .dataframe thead th {\n",
       "        text-align: right;\n",
       "    }\n",
       "</style>\n",
       "<table border=\"1\" class=\"dataframe\">\n",
       "  <thead>\n",
       "    <tr style=\"text-align: right;\">\n",
       "      <th></th>\n",
       "      <th>Temperature</th>\n",
       "      <th>Humidity(%)</th>\n",
       "      <th>Wind(m/h)</th>\n",
       "      <th>Soil_moisture</th>\n",
       "      <th>Rainfall(cm)</th>\n",
       "      <th>Sunshine</th>\n",
       "      <th>Result</th>\n",
       "    </tr>\n",
       "  </thead>\n",
       "  <tbody>\n",
       "    <tr>\n",
       "      <th>0</th>\n",
       "      <td>28.5</td>\n",
       "      <td>49.0</td>\n",
       "      <td>5.80</td>\n",
       "      <td>83.7</td>\n",
       "      <td>9.8</td>\n",
       "      <td>1.4</td>\n",
       "      <td>2</td>\n",
       "    </tr>\n",
       "    <tr>\n",
       "      <th>1</th>\n",
       "      <td>21.0</td>\n",
       "      <td>88.9</td>\n",
       "      <td>7.10</td>\n",
       "      <td>93.4</td>\n",
       "      <td>135.0</td>\n",
       "      <td>0.0</td>\n",
       "      <td>8</td>\n",
       "    </tr>\n",
       "    <tr>\n",
       "      <th>2</th>\n",
       "      <td>22.0</td>\n",
       "      <td>89.1</td>\n",
       "      <td>7.00</td>\n",
       "      <td>94.8</td>\n",
       "      <td>149.0</td>\n",
       "      <td>0.3</td>\n",
       "      <td>8</td>\n",
       "    </tr>\n",
       "    <tr>\n",
       "      <th>3</th>\n",
       "      <td>22.3</td>\n",
       "      <td>91.1</td>\n",
       "      <td>6.95</td>\n",
       "      <td>94.9</td>\n",
       "      <td>150.0</td>\n",
       "      <td>1.0</td>\n",
       "      <td>8</td>\n",
       "    </tr>\n",
       "    <tr>\n",
       "      <th>4</th>\n",
       "      <td>22.8</td>\n",
       "      <td>90.0</td>\n",
       "      <td>6.90</td>\n",
       "      <td>93.0</td>\n",
       "      <td>164.0</td>\n",
       "      <td>0.6</td>\n",
       "      <td>9</td>\n",
       "    </tr>\n",
       "  </tbody>\n",
       "</table>\n",
       "</div>"
      ],
      "text/plain": [
       "   Temperature  Humidity(%)  Wind(m/h)  Soil_moisture  Rainfall(cm)  Sunshine  \\\n",
       "0         28.5         49.0       5.80           83.7           9.8       1.4   \n",
       "1         21.0         88.9       7.10           93.4         135.0       0.0   \n",
       "2         22.0         89.1       7.00           94.8         149.0       0.3   \n",
       "3         22.3         91.1       6.95           94.9         150.0       1.0   \n",
       "4         22.8         90.0       6.90           93.0         164.0       0.6   \n",
       "\n",
       "   Result  \n",
       "0       2  \n",
       "1       8  \n",
       "2       8  \n",
       "3       8  \n",
       "4       9  "
      ]
     },
     "execution_count": 6,
     "metadata": {},
     "output_type": "execute_result"
    }
   ],
   "source": [
    "data.head(5)"
   ]
  },
  {
   "cell_type": "code",
   "execution_count": 7,
   "metadata": {},
   "outputs": [
    {
     "data": {
      "text/plain": [
       "Temperature      0\n",
       "Humidity(%)      0\n",
       "Wind(m/h)        0\n",
       "Soil_moisture    0\n",
       "Rainfall(cm)     0\n",
       "Sunshine         0\n",
       "Result           0\n",
       "dtype: int64"
      ]
     },
     "execution_count": 7,
     "metadata": {},
     "output_type": "execute_result"
    }
   ],
   "source": [
    "data.isnull().sum()"
   ]
  },
  {
   "cell_type": "markdown",
   "metadata": {},
   "source": [
    "### Data Representation & Comparison"
   ]
  },
  {
   "cell_type": "code",
   "execution_count": 8,
   "metadata": {},
   "outputs": [
    {
     "data": {
      "image/png": "[encoded data removed]",
      "text/plain": [
       "<Figure size 720x720 with 6 Axes>"
      ]
     },
     "metadata": {
      "needs_background": "light"
     },
     "output_type": "display_data"
    }
   ],
   "source": [
    "plt.figure(figsize=(10,10))\n",
    "\n",
    "\n",
    "\n",
    "plt.subplot(3,3,1)\n",
    "plt.xlabel(\"Temperature\") \n",
    "plt.ylabel(\"low                     high\")\n",
    "plt.title('Temperature Vs Prediction')\n",
    "plt.scatter(data['Temperature'], data['Result'], s=4, c='g')\n",
    "\n",
    "plt.subplot(3,3,2)\n",
    "plt.xlabel(\"Rainfall\") \n",
    "plt.ylabel(\"low                     high\")\n",
    "plt.title('Rainfall Vs Prediction')\n",
    "plt.scatter(data['Rainfall(cm)'], data['Result'], s=4, c='b')\n",
    "\n",
    "plt.subplot(3,3,3)\n",
    "plt.xlabel(\"Humidity\") \n",
    "plt.ylabel(\"low                     high\")\n",
    "plt.title('Humidity Vs Prediction')\n",
    "plt.scatter(data['Humidity(%)'], data['Result'], s=4, c='m')\n",
    "\n",
    "plt.subplot(3,3,4)\n",
    "plt.xlabel(\"Windspeed\") \n",
    "plt.ylabel(\"low                     high\")\n",
    "plt.title('Windspeed Vs Prediction')\n",
    "plt.scatter(data['Wind(m/h)'], data['Result'], s=4, c='c')\n",
    "\n",
    "plt.subplot(3,3,5)\n",
    "plt.xlabel(\"Soil moisture\") \n",
    "plt.ylabel(\"low                     high\")\n",
    "plt.title('Soil Moisture Vs Prediction')\n",
    "plt.scatter(data['Soil_moisture'], data['Result'], s=4, c='b')\n",
    "\n",
    "plt.subplot(3,3,6)\n",
    "plt.xlabel(\"Sunshine\") \n",
    "plt.ylabel(\"low                     high\")\n",
    "plt.title('Sunshine Vs Prediction')\n",
    "plt.scatter(data['Sunshine'], data['Result'], s=4, c='r')\n",
    "\n",
    "plt.tight_layout()"
   ]
  },
  {
   "cell_type": "markdown",
   "metadata": {},
   "source": [
    "# Splitting the data"
   ]
  },
  {
   "cell_type": "code",
   "execution_count": 9,
   "metadata": {},
   "outputs": [],
   "source": [
    "from sklearn.model_selection import train_test_split\n",
    "x=data.drop([\"Result\"] ,axis=1)\n",
    "y=data[\"Result\"]\n"
   ]
  },
  {
   "cell_type": "code",
   "execution_count": 10,
   "metadata": {},
   "outputs": [
    {
     "data": {
      "text/plain": [
       "0    2\n",
       "1    8\n",
       "2    8\n",
       "3    8\n",
       "4    9\n",
       "Name: Result, dtype: int64"
      ]
     },
     "execution_count": 10,
     "metadata": {},
     "output_type": "execute_result"
    }
   ],
   "source": [
    "x.head()\n",
    "y.head()"
   ]
  },
  {
   "cell_type": "code",
   "execution_count": 11,
   "metadata": {},
   "outputs": [],
   "source": [
    "x_train,x_test,y_train,y_test=train_test_split(x,y,test_size=0.3)\n"
   ]
  },
  {
   "cell_type": "markdown",
   "metadata": {},
   "source": [
    "# Decision Tree\n"
   ]
  },
  {
   "cell_type": "code",
   "execution_count": 12,
   "metadata": {},
   "outputs": [
    {
     "data": {
      "text/plain": [
       "DecisionTreeClassifier()"
      ]
     },
     "execution_count": 12,
     "metadata": {},
     "output_type": "execute_result"
    }
   ],
   "source": [
    "\n",
    "from sklearn.tree import DecisionTreeClassifier\n",
    "dtree=DecisionTreeClassifier()\n",
    "dtree.fit(x_train,y_train)"
   ]
  },
  {
   "cell_type": "code",
   "execution_count": 13,
   "metadata": {},
   "outputs": [],
   "source": [
    "prediction=dtree.predict(x_test)"
   ]
  },
  {
   "cell_type": "markdown",
   "metadata": {},
   "source": [
    "## Decision Tree Plotting"
   ]
  },
  {
   "cell_type": "raw",
   "metadata": {},
   "source": [
    "from sklearn.tree import export_graphviz\n",
    "import six\n",
    "import pydot\n",
    "from sklearn import tree\n",
    "dotfile = six.StringIO()\n",
    "i_tree = 0\n",
    "export_graphviz(dtree,out_file='decision_tree.dot',\n",
    "                feature_names=labels,\n",
    "                filled=True,\n",
    "                rounded=True)\n",
    "(graph,) = pydot.graph_from_dot_file('decision_tree.dot')\n",
    "name = 'tree' + str(i_tree)\n",
    "graph.write(name+  '.dot')\n",
    "i_tree +=1\n",
    "    "
   ]
  },
  {
   "cell_type": "markdown",
   "metadata": {},
   "source": [
    "## Decision Tree Evaluation"
   ]
  },
  {
   "cell_type": "code",
   "execution_count": 14,
   "metadata": {},
   "outputs": [],
   "source": [
    "from sklearn.metrics import classification_report,confusion_matrix,f1_score,accuracy_score\n",
    "import itertools"
   ]
  },
  {
   "cell_type": "code",
   "execution_count": 15,
   "metadata": {},
   "outputs": [
    {
     "name": "stdout",
     "output_type": "stream",
     "text": [
      "              precision    recall  f1-score   support\n",
      "\n",
      "           1       0.33      0.40      0.36         5\n",
      "           2       0.12      0.20      0.15         5\n",
      "           3       0.50      0.14      0.22         7\n",
      "           4       0.00      0.00      0.00         1\n",
      "           5       0.60      1.00      0.75         6\n",
      "           6       0.67      0.25      0.36         8\n",
      "           7       0.38      0.43      0.40         7\n",
      "           8       0.80      0.44      0.57         9\n",
      "           9       0.00      0.00      0.00         2\n",
      "\n",
      "    accuracy                           0.38        50\n",
      "   macro avg       0.38      0.32      0.31        50\n",
      "weighted avg       0.49      0.38      0.39        50\n",
      "\n"
     ]
    }
   ],
   "source": [
    "print(classification_report(y_test,prediction))"
   ]
  },
  {
   "cell_type": "markdown",
   "metadata": {},
   "source": [
    "## Descision Tree Confusion Matrix Plot"
   ]
  },
  {
   "cell_type": "code",
   "execution_count": 16,
   "metadata": {},
   "outputs": [
    {
     "name": "stderr",
     "output_type": "stream",
     "text": [
      "C:\\Users\\user\\Anaconda3\\envs\\project\\lib\\site-packages\\sklearn\\utils\\validation.py:67: FutureWarning: Pass labels=[1, 2, 3, 4, 5, 6, 7, 8, 9, 10] as keyword args. From version 0.25 passing these as positional arguments will result in an error\n",
      "  warnings.warn(\"Pass {} as keyword args. From version 0.25 \"\n"
     ]
    },
    {
     "data": {
      "image/png": "[encoded data removed]",
      "text/plain": [
       "<Figure size 576x432 with 2 Axes>"
      ]
     },
     "metadata": {
      "needs_background": "light"
     },
     "output_type": "display_data"
    }
   ],
   "source": [
    "label = list(dtree.classes_)\n",
    "target_names = label\n",
    "cm = confusion_matrix(y_test, prediction, label)\n",
    "accuracy = np.trace(cm) / np.sum(cm).astype('float')\n",
    "misclass = 1 - accuracy\n",
    "\n",
    "\n",
    "plt.figure(figsize=(8, 6))\n",
    "plt.imshow(cm, interpolation='nearest')\n",
    "plt.title(\"Descision Tree\")\n",
    "plt.colorbar()\n",
    "\n",
    "\n",
    "if target_names is not None:\n",
    "    tick_marks = np.arange(len(target_names))\n",
    "    plt.xticks(tick_marks, target_names, rotation=45)\n",
    "    plt.yticks(tick_marks, target_names)\n",
    "\n",
    "\n",
    "thresh = cm.max() / 1.5\n",
    "for i, j in itertools.product(range(cm.shape[0]), range(cm.shape[1])):\n",
    "    plt.text(j, i, \"{:,}\".format(cm[i, j]),\n",
    "             horizontalalignment=\"center\",\n",
    "             color=\"black\" if cm[i, j] > thresh else \"white\")\n",
    "\n",
    "\n",
    "plt.tight_layout()\n",
    "plt.ylabel('True label')\n",
    "plt.xlabel('Predicted label\\n\\naccuracy={:0.4f}; misclass={:0.4f}'.format(accuracy, misclass))\n",
    "plt.show()"
   ]
  },
  {
   "cell_type": "markdown",
   "metadata": {},
   "source": [
    "\n",
    "# Random forest\n"
   ]
  },
  {
   "cell_type": "code",
   "execution_count": 17,
   "metadata": {},
   "outputs": [
    {
     "data": {
      "text/plain": [
       "RandomForestClassifier(n_estimators=300)"
      ]
     },
     "execution_count": 17,
     "metadata": {},
     "output_type": "execute_result"
    }
   ],
   "source": [
    "from sklearn.ensemble import RandomForestClassifier\n",
    "rfc=RandomForestClassifier(n_estimators=300)\n",
    "rfc.fit(x_train,y_train)"
   ]
  },
  {
   "cell_type": "code",
   "execution_count": 18,
   "metadata": {},
   "outputs": [],
   "source": [
    "rfc_pred=rfc.predict(x_test)"
   ]
  },
  {
   "cell_type": "markdown",
   "metadata": {},
   "source": [
    "## RFC Confusion Matrix Plot"
   ]
  },
  {
   "cell_type": "code",
   "execution_count": 19,
   "metadata": {
    "scrolled": true
   },
   "outputs": [
    {
     "name": "stderr",
     "output_type": "stream",
     "text": [
      "C:\\Users\\user\\Anaconda3\\envs\\project\\lib\\site-packages\\sklearn\\utils\\validation.py:67: FutureWarning: Pass labels=[1, 2, 3, 4, 5, 6, 7, 8, 9, 10] as keyword args. From version 0.25 passing these as positional arguments will result in an error\n",
      "  warnings.warn(\"Pass {} as keyword args. From version 0.25 \"\n"
     ]
    },
    {
     "data": {
      "image/png": "[encoded data removed]",
      "text/plain": [
       "<Figure size 576x432 with 2 Axes>"
      ]
     },
     "metadata": {
      "needs_background": "light"
     },
     "output_type": "display_data"
    }
   ],
   "source": [
    "label = list(rfc.classes_)\n",
    "target_names = label\n",
    "cm = confusion_matrix(y_test, rfc_pred, label)\n",
    "accuracy = np.trace(cm) / np.sum(cm).astype('float')\n",
    "misclass = 1 - accuracy\n",
    "\n",
    "\n",
    "plt.figure(figsize=(8, 6))\n",
    "plt.imshow(cm, interpolation='nearest')\n",
    "plt.title(\"Random Forest Classifier\")\n",
    "plt.colorbar()\n",
    "\n",
    "if target_names is not None:\n",
    "    tick_marks = np.arange(len(target_names))\n",
    "    plt.xticks(tick_marks, target_names, rotation=45)\n",
    "    plt.yticks(tick_marks, target_names)\n",
    "\n",
    "\n",
    "thresh = cm.max() / 1.5\n",
    "for i, j in itertools.product(range(cm.shape[0]), range(cm.shape[1])):\n",
    "    plt.text(j, i, \"{:,}\".format(cm[i, j]),\n",
    "             horizontalalignment=\"center\",\n",
    "             color=\"black\" if cm[i, j] > thresh else \"white\")\n",
    "\n",
    "\n",
    "plt.tight_layout()\n",
    "plt.ylabel('True label')\n",
    "plt.xlabel('Predicted label\\n\\naccuracy={:0.4f}; misclass={:0.4f}'.format(accuracy, misclass))\n",
    "plt.show()"
   ]
  },
  {
   "cell_type": "code",
   "execution_count": null,
   "metadata": {},
   "outputs": [],
   "source": []
  },
  {
   "cell_type": "markdown",
   "metadata": {},
   "source": [
    "# Test RFC Plot\n"
   ]
  },
  {
   "cell_type": "code",
   "execution_count": 20,
   "metadata": {},
   "outputs": [
    {
     "name": "stdout",
     "output_type": "stream",
     "text": [
      "2\n"
     ]
    }
   ],
   "source": [
    "\n",
    "#check=[[34,25,4.8,90,150,5]]\n",
    "check=[[28.5 ,49.0 ,5.80 ,83.7 ,9.8 ,1.4]]\n",
    "res=[1]\n",
    "rfc_pred=rfc.predict(check)\n",
    "print(rfc_pred[0])"
   ]
  },
  {
   "cell_type": "markdown",
   "metadata": {},
   "source": [
    "# SVM"
   ]
  },
  {
   "cell_type": "code",
   "execution_count": 21,
   "metadata": {},
   "outputs": [
    {
     "data": {
      "text/plain": [
       "SVC()"
      ]
     },
     "execution_count": 21,
     "metadata": {},
     "output_type": "execute_result"
    }
   ],
   "source": [
    "from sklearn.svm import SVC\n",
    "model=SVC()\n",
    "model.fit(x_train,y_train)"
   ]
  },
  {
   "cell_type": "code",
   "execution_count": 22,
   "metadata": {},
   "outputs": [],
   "source": [
    "predictions=model.predict(x_test)"
   ]
  },
  {
   "cell_type": "code",
   "execution_count": 23,
   "metadata": {},
   "outputs": [
    {
     "name": "stdout",
     "output_type": "stream",
     "text": [
      "              precision    recall  f1-score   support\n",
      "\n",
      "           1       0.33      1.00      0.50         5\n",
      "           2       0.00      0.00      0.00         5\n",
      "           3       0.00      0.00      0.00         7\n",
      "           4       0.00      0.00      0.00         1\n",
      "           5       0.15      0.50      0.23         6\n",
      "           6       0.00      0.00      0.00         8\n",
      "           7       0.00      0.00      0.00         7\n",
      "           8       0.00      0.00      0.00         9\n",
      "           9       0.13      1.00      0.24         2\n",
      "\n",
      "    accuracy                           0.20        50\n",
      "   macro avg       0.07      0.28      0.11        50\n",
      "weighted avg       0.06      0.20      0.09        50\n",
      "\n"
     ]
    },
    {
     "name": "stderr",
     "output_type": "stream",
     "text": [
      "C:\\Users\\user\\Anaconda3\\envs\\project\\lib\\site-packages\\sklearn\\metrics\\_classification.py:1221: UndefinedMetricWarning: Precision and F-score are ill-defined and being set to 0.0 in labels with no predicted samples. Use `zero_division` parameter to control this behavior.\n",
      "  _warn_prf(average, modifier, msg_start, len(result))\n"
     ]
    }
   ],
   "source": [
    "print(classification_report(y_test,predictions))"
   ]
  },
  {
   "cell_type": "raw",
   "metadata": {},
   "source": [
    "import os"
   ]
  },
  {
   "cell_type": "raw",
   "metadata": {},
   "source": [
    "from sklearn.tree import export_graphviz\n",
    "import six\n",
    "import pydot\n",
    "from sklearn import tree\n",
    "dotfile = six.StringIO()\n",
    "i_tree = 0\n",
    "for tree_in_forest in rfc.estimators_:\n",
    "    export_graphviz(tree_in_forest,out_file='tree.dot',\n",
    "    feature_names=labels,\n",
    "    filled=True,\n",
    "    rounded=True)\n",
    "    (graph,) = pydot.graph_from_dot_file('tree.dot')\n",
    "    name = 'tree' + str(i_tree)\n",
    "    graph.write(name+  '.dot')\n",
    "    i_tree +=1\n",
    "    "
   ]
  },
  {
   "cell_type": "code",
   "execution_count": 24,
   "metadata": {},
   "outputs": [],
   "source": [
    "labels = ['Temperature','Humidity(%)','Wind(m/s)','Soil_moisture','Rainfall(cm)','Sunshine']"
   ]
  },
  {
   "cell_type": "markdown",
   "metadata": {},
   "source": [
    "# Model Creation"
   ]
  },
  {
   "cell_type": "code",
   "execution_count": 25,
   "metadata": {
    "scrolled": true
   },
   "outputs": [
    {
     "name": "stdout",
     "output_type": "stream",
     "text": [
      "Model dumped!\n"
     ]
    }
   ],
   "source": [
    "import joblib\n",
    "joblib.dump(rfc, 'model.pkl')\n",
    "print(\"Model dumped!\")"
   ]
  },
  {
   "cell_type": "markdown",
   "metadata": {},
   "source": [
    "## Saving the data columns from training"
   ]
  },
  {
   "cell_type": "code",
   "execution_count": 26,
   "metadata": {
    "scrolled": true
   },
   "outputs": [
    {
     "name": "stdout",
     "output_type": "stream",
     "text": [
      "Models columns dumped!\n"
     ]
    }
   ],
   "source": [
    "model_columns = list(x.columns)\n",
    "joblib.dump(model_columns, 'model_columns.pkl')\n",
    "print(\"Models columns dumped!\")"
   ]
  },
  {
   "cell_type": "markdown",
   "metadata": {},
   "source": [
    "## Load the model that was saved"
   ]
  },
  {
   "cell_type": "code",
   "execution_count": 27,
   "metadata": {},
   "outputs": [],
   "source": [
    "rfc = joblib.load('model.pkl')"
   ]
  },
  {
   "cell_type": "code",
   "execution_count": null,
   "metadata": {},
   "outputs": [],
   "source": []
  }
 ],
 "metadata": {
  "kernelspec": {
   "display_name": "Python 3",
   "language": "python",
   "name": "python3"
  },
  "language_info": {
   "codemirror_mode": {
    "name": "ipython",
    "version": 3
   },
   "file_extension": ".py",
   "mimetype": "text/x-python",
   "name": "python",
   "nbconvert_exporter": "python",
   "pygments_lexer": "ipython3",
   "version": "3.7.3"
  }
 },
 "nbformat": 4,
 "nbformat_minor": 2
}
