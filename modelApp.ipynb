{
 "cells": [
  {
   "cell_type": "code",
   "execution_count": 1,
   "metadata": {},
   "outputs": [],
   "source": [
    "import pandas as pd\n",
    "import matplotlib.pyplot as plt\n",
    "import numpy as np\n",
    "import math\n",
    "import pickle"
   ]
  },
  {
   "cell_type": "code",
   "execution_count": 2,
   "metadata": {},
   "outputs": [],
   "source": [
    "data = pd.read_csv('Projectdataset.csv')\n",
    "                   "
   ]
  },
  {
   "cell_type": "code",
   "execution_count": 3,
   "metadata": {},
   "outputs": [],
   "source": [
    "data.head(5)\n",
    "dataset=data.copy()"
   ]
  },
  {
   "cell_type": "code",
   "execution_count": 4,
   "metadata": {},
   "outputs": [
    {
     "data": {
      "text/html": [
       "<div>\n",
       "<style scoped>\n",
       "    .dataframe tbody tr th:only-of-type {\n",
       "        vertical-align: middle;\n",
       "    }\n",
       "\n",
       "    .dataframe tbody tr th {\n",
       "        vertical-align: top;\n",
       "    }\n",
       "\n",
       "    .dataframe thead th {\n",
       "        text-align: right;\n",
       "    }\n",
       "</style>\n",
       "<table border=\"1\" class=\"dataframe\">\n",
       "  <thead>\n",
       "    <tr style=\"text-align: right;\">\n",
       "      <th></th>\n",
       "      <th>SNO</th>\n",
       "      <th>Temperature</th>\n",
       "      <th>Humidity(%)</th>\n",
       "      <th>Wind(m/h)</th>\n",
       "      <th>Soil_moisture</th>\n",
       "      <th>Rainfall(cm)</th>\n",
       "      <th>Sunshine</th>\n",
       "      <th>Result</th>\n",
       "      <th>prediction</th>\n",
       "    </tr>\n",
       "  </thead>\n",
       "  <tbody>\n",
       "    <tr>\n",
       "      <th>0</th>\n",
       "      <td>1</td>\n",
       "      <td>28.5</td>\n",
       "      <td>49.0</td>\n",
       "      <td>5.80</td>\n",
       "      <td>83.7</td>\n",
       "      <td>9.8</td>\n",
       "      <td>1.4</td>\n",
       "      <td>2</td>\n",
       "      <td>no</td>\n",
       "    </tr>\n",
       "    <tr>\n",
       "      <th>1</th>\n",
       "      <td>2</td>\n",
       "      <td>21.0</td>\n",
       "      <td>88.9</td>\n",
       "      <td>7.10</td>\n",
       "      <td>93.4</td>\n",
       "      <td>135.0</td>\n",
       "      <td>0.0</td>\n",
       "      <td>8</td>\n",
       "      <td>highly yes</td>\n",
       "    </tr>\n",
       "    <tr>\n",
       "      <th>2</th>\n",
       "      <td>3</td>\n",
       "      <td>22.0</td>\n",
       "      <td>89.1</td>\n",
       "      <td>7.00</td>\n",
       "      <td>94.8</td>\n",
       "      <td>149.0</td>\n",
       "      <td>0.3</td>\n",
       "      <td>8</td>\n",
       "      <td>highly yes</td>\n",
       "    </tr>\n",
       "    <tr>\n",
       "      <th>3</th>\n",
       "      <td>4</td>\n",
       "      <td>22.3</td>\n",
       "      <td>91.1</td>\n",
       "      <td>6.95</td>\n",
       "      <td>94.9</td>\n",
       "      <td>150.0</td>\n",
       "      <td>1.0</td>\n",
       "      <td>8</td>\n",
       "      <td>highly yes</td>\n",
       "    </tr>\n",
       "    <tr>\n",
       "      <th>4</th>\n",
       "      <td>5</td>\n",
       "      <td>22.8</td>\n",
       "      <td>90.0</td>\n",
       "      <td>6.90</td>\n",
       "      <td>93.0</td>\n",
       "      <td>164.0</td>\n",
       "      <td>0.6</td>\n",
       "      <td>9</td>\n",
       "      <td>highly yes</td>\n",
       "    </tr>\n",
       "  </tbody>\n",
       "</table>\n",
       "</div>"
      ],
      "text/plain": [
       "   SNO  Temperature  Humidity(%)  Wind(m/h)  Soil_moisture  Rainfall(cm)  \\\n",
       "0    1         28.5         49.0       5.80           83.7           9.8   \n",
       "1    2         21.0         88.9       7.10           93.4         135.0   \n",
       "2    3         22.0         89.1       7.00           94.8         149.0   \n",
       "3    4         22.3         91.1       6.95           94.9         150.0   \n",
       "4    5         22.8         90.0       6.90           93.0         164.0   \n",
       "\n",
       "   Sunshine  Result  prediction  \n",
       "0       1.4       2          no  \n",
       "1       0.0       8  highly yes  \n",
       "2       0.3       8  highly yes  \n",
       "3       1.0       8  highly yes  \n",
       "4       0.6       9  highly yes  "
      ]
     },
     "execution_count": 4,
     "metadata": {},
     "output_type": "execute_result"
    }
   ],
   "source": [
    "Orignaldataset=dataset.copy()\n",
    "Orignaldataset.head()"
   ]
  },
  {
   "cell_type": "code",
   "execution_count": 6,
   "metadata": {},
   "outputs": [],
   "source": [
    "#data=data.drop(['Crop_age'],axis=1)\n",
    "data=data.drop(['SNO','prediction'],axis=1)"
   ]
  },
  {
   "cell_type": "code",
   "execution_count": 7,
   "metadata": {
    "scrolled": false
   },
   "outputs": [
    {
     "data": {
      "text/html": [
       "<div>\n",
       "<style scoped>\n",
       "    .dataframe tbody tr th:only-of-type {\n",
       "        vertical-align: middle;\n",
       "    }\n",
       "\n",
       "    .dataframe tbody tr th {\n",
       "        vertical-align: top;\n",
       "    }\n",
       "\n",
       "    .dataframe thead th {\n",
       "        text-align: right;\n",
       "    }\n",
       "</style>\n",
       "<table border=\"1\" class=\"dataframe\">\n",
       "  <thead>\n",
       "    <tr style=\"text-align: right;\">\n",
       "      <th></th>\n",
       "      <th>Temperature</th>\n",
       "      <th>Humidity(%)</th>\n",
       "      <th>Wind(m/h)</th>\n",
       "      <th>Soil_moisture</th>\n",
       "      <th>Rainfall(cm)</th>\n",
       "      <th>Sunshine</th>\n",
       "      <th>Result</th>\n",
       "    </tr>\n",
       "  </thead>\n",
       "  <tbody>\n",
       "    <tr>\n",
       "      <th>0</th>\n",
       "      <td>28.5</td>\n",
       "      <td>49.0</td>\n",
       "      <td>5.80</td>\n",
       "      <td>83.7</td>\n",
       "      <td>9.8</td>\n",
       "      <td>1.4</td>\n",
       "      <td>2</td>\n",
       "    </tr>\n",
       "    <tr>\n",
       "      <th>1</th>\n",
       "      <td>21.0</td>\n",
       "      <td>88.9</td>\n",
       "      <td>7.10</td>\n",
       "      <td>93.4</td>\n",
       "      <td>135.0</td>\n",
       "      <td>0.0</td>\n",
       "      <td>8</td>\n",
       "    </tr>\n",
       "    <tr>\n",
       "      <th>2</th>\n",
       "      <td>22.0</td>\n",
       "      <td>89.1</td>\n",
       "      <td>7.00</td>\n",
       "      <td>94.8</td>\n",
       "      <td>149.0</td>\n",
       "      <td>0.3</td>\n",
       "      <td>8</td>\n",
       "    </tr>\n",
       "    <tr>\n",
       "      <th>3</th>\n",
       "      <td>22.3</td>\n",
       "      <td>91.1</td>\n",
       "      <td>6.95</td>\n",
       "      <td>94.9</td>\n",
       "      <td>150.0</td>\n",
       "      <td>1.0</td>\n",
       "      <td>8</td>\n",
       "    </tr>\n",
       "    <tr>\n",
       "      <th>4</th>\n",
       "      <td>22.8</td>\n",
       "      <td>90.0</td>\n",
       "      <td>6.90</td>\n",
       "      <td>93.0</td>\n",
       "      <td>164.0</td>\n",
       "      <td>0.6</td>\n",
       "      <td>9</td>\n",
       "    </tr>\n",
       "  </tbody>\n",
       "</table>\n",
       "</div>"
      ],
      "text/plain": [
       "   Temperature  Humidity(%)  Wind(m/h)  Soil_moisture  Rainfall(cm)  Sunshine  \\\n",
       "0         28.5         49.0       5.80           83.7           9.8       1.4   \n",
       "1         21.0         88.9       7.10           93.4         135.0       0.0   \n",
       "2         22.0         89.1       7.00           94.8         149.0       0.3   \n",
       "3         22.3         91.1       6.95           94.9         150.0       1.0   \n",
       "4         22.8         90.0       6.90           93.0         164.0       0.6   \n",
       "\n",
       "   Result  \n",
       "0       2  \n",
       "1       8  \n",
       "2       8  \n",
       "3       8  \n",
       "4       9  "
      ]
     },
     "execution_count": 7,
     "metadata": {},
     "output_type": "execute_result"
    }
   ],
   "source": [
    "data.head(5)"
   ]
  },
  {
   "cell_type": "code",
   "execution_count": 8,
   "metadata": {},
   "outputs": [],
   "source": [
    "from sklearn.preprocessing import StandardScaler"
   ]
  },
  {
   "cell_type": "code",
   "execution_count": 9,
   "metadata": {},
   "outputs": [],
   "source": [
    "scaler = StandardScaler()"
   ]
  },
  {
   "cell_type": "code",
   "execution_count": 10,
   "metadata": {},
   "outputs": [
    {
     "data": {
      "text/plain": [
       "StandardScaler()"
      ]
     },
     "execution_count": 10,
     "metadata": {},
     "output_type": "execute_result"
    }
   ],
   "source": [
    "scaler.fit(data)"
   ]
  },
  {
   "cell_type": "code",
   "execution_count": 11,
   "metadata": {},
   "outputs": [
    {
     "data": {
      "text/html": [
       "<div>\n",
       "<style scoped>\n",
       "    .dataframe tbody tr th:only-of-type {\n",
       "        vertical-align: middle;\n",
       "    }\n",
       "\n",
       "    .dataframe tbody tr th {\n",
       "        vertical-align: top;\n",
       "    }\n",
       "\n",
       "    .dataframe thead th {\n",
       "        text-align: right;\n",
       "    }\n",
       "</style>\n",
       "<table border=\"1\" class=\"dataframe\">\n",
       "  <thead>\n",
       "    <tr style=\"text-align: right;\">\n",
       "      <th></th>\n",
       "      <th>Temperature</th>\n",
       "      <th>Humidity(%)</th>\n",
       "      <th>Wind(m/h)</th>\n",
       "      <th>Soil_moisture</th>\n",
       "      <th>Rainfall(cm)</th>\n",
       "      <th>Sunshine</th>\n",
       "      <th>Result</th>\n",
       "    </tr>\n",
       "  </thead>\n",
       "  <tbody>\n",
       "    <tr>\n",
       "      <th>0</th>\n",
       "      <td>28.5</td>\n",
       "      <td>49.0</td>\n",
       "      <td>5.80</td>\n",
       "      <td>83.7</td>\n",
       "      <td>9.8</td>\n",
       "      <td>1.4</td>\n",
       "      <td>2</td>\n",
       "    </tr>\n",
       "    <tr>\n",
       "      <th>1</th>\n",
       "      <td>21.0</td>\n",
       "      <td>88.9</td>\n",
       "      <td>7.10</td>\n",
       "      <td>93.4</td>\n",
       "      <td>135.0</td>\n",
       "      <td>0.0</td>\n",
       "      <td>8</td>\n",
       "    </tr>\n",
       "    <tr>\n",
       "      <th>2</th>\n",
       "      <td>22.0</td>\n",
       "      <td>89.1</td>\n",
       "      <td>7.00</td>\n",
       "      <td>94.8</td>\n",
       "      <td>149.0</td>\n",
       "      <td>0.3</td>\n",
       "      <td>8</td>\n",
       "    </tr>\n",
       "    <tr>\n",
       "      <th>3</th>\n",
       "      <td>22.3</td>\n",
       "      <td>91.1</td>\n",
       "      <td>6.95</td>\n",
       "      <td>94.9</td>\n",
       "      <td>150.0</td>\n",
       "      <td>1.0</td>\n",
       "      <td>8</td>\n",
       "    </tr>\n",
       "    <tr>\n",
       "      <th>4</th>\n",
       "      <td>22.8</td>\n",
       "      <td>90.0</td>\n",
       "      <td>6.90</td>\n",
       "      <td>93.0</td>\n",
       "      <td>164.0</td>\n",
       "      <td>0.6</td>\n",
       "      <td>9</td>\n",
       "    </tr>\n",
       "  </tbody>\n",
       "</table>\n",
       "</div>"
      ],
      "text/plain": [
       "   Temperature  Humidity(%)  Wind(m/h)  Soil_moisture  Rainfall(cm)  Sunshine  \\\n",
       "0         28.5         49.0       5.80           83.7           9.8       1.4   \n",
       "1         21.0         88.9       7.10           93.4         135.0       0.0   \n",
       "2         22.0         89.1       7.00           94.8         149.0       0.3   \n",
       "3         22.3         91.1       6.95           94.9         150.0       1.0   \n",
       "4         22.8         90.0       6.90           93.0         164.0       0.6   \n",
       "\n",
       "   Result  \n",
       "0       2  \n",
       "1       8  \n",
       "2       8  \n",
       "3       8  \n",
       "4       9  "
      ]
     },
     "execution_count": 11,
     "metadata": {},
     "output_type": "execute_result"
    }
   ],
   "source": [
    "data.head()"
   ]
  },
  {
   "cell_type": "code",
   "execution_count": 12,
   "metadata": {},
   "outputs": [
    {
     "data": {
      "text/plain": [
       "array([[ 1.4470327 , -1.50721658, -0.28635893, ..., -1.35535819,\n",
       "        -0.58247601, -1.13330158],\n",
       "       [-0.20490731,  0.37809281,  0.47327489, ..., -0.04234958,\n",
       "        -1.22601896,  1.08841835],\n",
       "       [ 0.01535136,  0.38754298,  0.41484152, ...,  0.10447247,\n",
       "        -1.0881169 ,  1.08841835],\n",
       "       ...,\n",
       "       [ 0.6541015 ,  0.66632306,  0.53170826, ...,  1.16368868,\n",
       "         0.15300164,  0.34784504],\n",
       "       [ 0.67612736,  0.38281789,  0.53170826, ...,  1.25807428,\n",
       "         0.10703429,  0.34784504],\n",
       "       [ 0.4558687 ,  0.66632306,  0.29797478, ...,  1.36294717,\n",
       "         0.06106693,  0.34784504]])"
      ]
     },
     "execution_count": 12,
     "metadata": {},
     "output_type": "execute_result"
    }
   ],
   "source": [
    "scaler.transform(data)"
   ]
  },
  {
   "cell_type": "code",
   "execution_count": 13,
   "metadata": {
    "scrolled": true
   },
   "outputs": [
    {
     "data": {
      "text/html": [
       "<div>\n",
       "<style scoped>\n",
       "    .dataframe tbody tr th:only-of-type {\n",
       "        vertical-align: middle;\n",
       "    }\n",
       "\n",
       "    .dataframe tbody tr th {\n",
       "        vertical-align: top;\n",
       "    }\n",
       "\n",
       "    .dataframe thead th {\n",
       "        text-align: right;\n",
       "    }\n",
       "</style>\n",
       "<table border=\"1\" class=\"dataframe\">\n",
       "  <thead>\n",
       "    <tr style=\"text-align: right;\">\n",
       "      <th></th>\n",
       "      <th>Temperature</th>\n",
       "      <th>Humidity(%)</th>\n",
       "      <th>Wind(m/h)</th>\n",
       "      <th>Soil_moisture</th>\n",
       "      <th>Rainfall(cm)</th>\n",
       "      <th>Sunshine</th>\n",
       "    </tr>\n",
       "  </thead>\n",
       "  <tbody>\n",
       "    <tr>\n",
       "      <th>0</th>\n",
       "      <td>28.5</td>\n",
       "      <td>49.0</td>\n",
       "      <td>5.80</td>\n",
       "      <td>83.7</td>\n",
       "      <td>9.8</td>\n",
       "      <td>1.4</td>\n",
       "    </tr>\n",
       "    <tr>\n",
       "      <th>1</th>\n",
       "      <td>21.0</td>\n",
       "      <td>88.9</td>\n",
       "      <td>7.10</td>\n",
       "      <td>93.4</td>\n",
       "      <td>135.0</td>\n",
       "      <td>0.0</td>\n",
       "    </tr>\n",
       "    <tr>\n",
       "      <th>2</th>\n",
       "      <td>22.0</td>\n",
       "      <td>89.1</td>\n",
       "      <td>7.00</td>\n",
       "      <td>94.8</td>\n",
       "      <td>149.0</td>\n",
       "      <td>0.3</td>\n",
       "    </tr>\n",
       "    <tr>\n",
       "      <th>3</th>\n",
       "      <td>22.3</td>\n",
       "      <td>91.1</td>\n",
       "      <td>6.95</td>\n",
       "      <td>94.9</td>\n",
       "      <td>150.0</td>\n",
       "      <td>1.0</td>\n",
       "    </tr>\n",
       "    <tr>\n",
       "      <th>4</th>\n",
       "      <td>22.8</td>\n",
       "      <td>90.0</td>\n",
       "      <td>6.90</td>\n",
       "      <td>93.0</td>\n",
       "      <td>164.0</td>\n",
       "      <td>0.6</td>\n",
       "    </tr>\n",
       "  </tbody>\n",
       "</table>\n",
       "</div>"
      ],
      "text/plain": [
       "   Temperature  Humidity(%)  Wind(m/h)  Soil_moisture  Rainfall(cm)  Sunshine\n",
       "0         28.5         49.0       5.80           83.7           9.8       1.4\n",
       "1         21.0         88.9       7.10           93.4         135.0       0.0\n",
       "2         22.0         89.1       7.00           94.8         149.0       0.3\n",
       "3         22.3         91.1       6.95           94.9         150.0       1.0\n",
       "4         22.8         90.0       6.90           93.0         164.0       0.6"
      ]
     },
     "execution_count": 13,
     "metadata": {},
     "output_type": "execute_result"
    }
   ],
   "source": [
    "from sklearn.model_selection import train_test_split\n",
    "x=data.drop([\"Result\"] ,axis=1)\n",
    "y=data[\"Result\"]\n",
    "x.head()"
   ]
  },
  {
   "cell_type": "code",
   "execution_count": 14,
   "metadata": {},
   "outputs": [],
   "source": [
    "x_train,x_test,y_train,y_test=train_test_split(x,y,test_size=0.30)\n"
   ]
  },
  {
   "cell_type": "markdown",
   "metadata": {},
   "source": [
    "\n",
    "# Random forest\n"
   ]
  },
  {
   "cell_type": "code",
   "execution_count": 15,
   "metadata": {},
   "outputs": [
    {
     "data": {
      "text/plain": [
       "RandomForestClassifier()"
      ]
     },
     "execution_count": 15,
     "metadata": {},
     "output_type": "execute_result"
    }
   ],
   "source": [
    "from sklearn.ensemble import RandomForestClassifier\n",
    "from sklearn.metrics import classification_report,confusion_matrix\n",
    "rfc=RandomForestClassifier(n_estimators=100)\n",
    "rfc.fit(x,y)\n",
    "#rfc.fit(x_train,y_train)"
   ]
  },
  {
   "cell_type": "markdown",
   "metadata": {},
   "source": [
    "## Save the model"
   ]
  },
  {
   "cell_type": "code",
   "execution_count": 17,
   "metadata": {},
   "outputs": [
    {
     "name": "stdout",
     "output_type": "stream",
     "text": [
      "Model dumped!\n"
     ]
    }
   ],
   "source": [
    "import joblib\n",
    "joblib.dump(rfc, 'model.pkl')\n",
    "print(\"Model dumped!\")"
   ]
  },
  {
   "cell_type": "markdown",
   "metadata": {},
   "source": [
    "## Load the model that was saved"
   ]
  },
  {
   "cell_type": "code",
   "execution_count": 18,
   "metadata": {},
   "outputs": [],
   "source": [
    "rfc = joblib.load('model.pkl')"
   ]
  },
  {
   "cell_type": "markdown",
   "metadata": {},
   "source": [
    "## Saving the data columns from training"
   ]
  },
  {
   "cell_type": "code",
   "execution_count": 19,
   "metadata": {},
   "outputs": [
    {
     "name": "stdout",
     "output_type": "stream",
     "text": [
      "Models columns dumped!\n"
     ]
    }
   ],
   "source": [
    "model_columns = list(x.columns)\n",
    "joblib.dump(model_columns, 'model_columns.pkl')\n",
    "print(\"Models columns dumped!\")"
   ]
  },
  {
   "cell_type": "code",
   "execution_count": null,
   "metadata": {},
   "outputs": [],
   "source": []
  }
 ],
 "metadata": {
  "kernelspec": {
   "display_name": "Python 3",
   "language": "python",
   "name": "python3"
  },
  "language_info": {
   "codemirror_mode": {
    "name": "ipython",
    "version": 3
   },
   "file_extension": ".py",
   "mimetype": "text/x-python",
   "name": "python",
   "nbconvert_exporter": "python",
   "pygments_lexer": "ipython3",
   "version": "3.7.7"
  }
 },
 "nbformat": 4,
 "nbformat_minor": 2
}
